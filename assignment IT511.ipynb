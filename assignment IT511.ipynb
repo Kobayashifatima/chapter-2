{
 "cells": [
  {
   "cell_type": "markdown",
   "id": "187841ab",
   "metadata": {},
   "source": [
    "# chapter 2"
   ]
  },
  {
   "cell_type": "markdown",
   "id": "4fd31855",
   "metadata": {},
   "source": [
    "variables,expressions and statements' "
   ]
  },
  {
   "cell_type": "code",
   "execution_count": 1,
   "id": "c8984a78",
   "metadata": {},
   "outputs": [
    {
     "name": "stdout",
     "output_type": "stream",
     "text": [
      "Circle Area: 78.53981633975\n",
      "Weight in Newtons: 735.0\n"
     ]
    }
   ],
   "source": [
    "\n",
    "PI = 3.14159265359\n",
    "GRAVITY = 9.8\n",
    "radius = 5.0\n",
    "area = PI * (radius ** 2)\n",
    "weight = 75 \n",
    "force = weight * GRAVITY\n",
    "\n",
    "print(\"Circle Area:\", area)\n",
    "print(\"Weight in Newtons:\", force)\n"
   ]
  },
  {
   "cell_type": "code",
   "execution_count": 2,
   "id": "c6b28f7b",
   "metadata": {},
   "outputs": [
    {
     "name": "stdout",
     "output_type": "stream",
     "text": [
      "Name: Alice\n",
      "Age: 30\n",
      "Height: 175.5 cm\n",
      "Is Student: True\n",
      "Birth Year: 1993\n",
      "Half of Height: 87.75 cm\n"
     ]
    }
   ],
   "source": [
    "\n",
    "name = \"Alice\"\n",
    "age = 30\n",
    "height = 175.5 \n",
    "is_student = True\n",
    "\n",
    "\n",
    "print(\"Name:\", name)\n",
    "print(\"Age:\", age)\n",
    "print(\"Height:\", height, \"cm\")\n",
    "print(\"Is Student:\", is_student)\n",
    "\n",
    "\n",
    "birth_year = 2023 - age\n",
    "half_height = height / 2\n",
    "\n",
    "print(\"Birth Year:\", birth_year)\n",
    "print(\"Half of Height:\", half_height, \"cm\")\n"
   ]
  },
  {
   "cell_type": "code",
   "execution_count": 3,
   "id": "115c21bd",
   "metadata": {},
   "outputs": [
    {
     "name": "stdout",
     "output_type": "stream",
     "text": [
      "Updated x: 8\n",
      "Updated y: 8\n",
      "My name is Alice and I am 30 years old.\n"
     ]
    }
   ],
   "source": [
    "\n",
    "x = 5\n",
    "y = 10\n",
    "\n",
    "\n",
    "x += 3 \n",
    "y -= 2  \n",
    "\n",
    "\n",
    "print(\"Updated x:\", x)\n",
    "print(\"Updated y:\", y)\n",
    "\n",
    "\n",
    "name = \"Alice\"\n",
    "age = 30\n",
    "\n",
    "\n",
    "message = \"My name is \" + name + \" and I am \" + str(age) + \" years old.\"\n",
    "\n",
    "\n",
    "print(message)\n"
   ]
  },
  {
   "cell_type": "code",
   "execution_count": 4,
   "id": "f63d2300",
   "metadata": {},
   "outputs": [
    {
     "name": "stdout",
     "output_type": "stream",
     "text": [
      "Original String: Python is a versatile programming language.\n",
      "String Length: 43\n",
      "First Character: P\n",
      "Last Character: .\n",
      "'versatile' is found in the string.\n",
      "The word 'Python' appears 1 times in the string.\n",
      "Updated String: Python is a powerful programming language.\n",
      "List of Words: ['Python', 'is', 'a', 'versatile', 'programming', 'language.']\n",
      "Reconstructed String: Python is a versatile programming language.\n"
     ]
    }
   ],
   "source": [
    "\n",
    "text = \"Python is a versatile programming language.\"\n",
    "substring = \"versatile\"\n",
    "\n",
    "string_length = len(text) \n",
    "first_character = text[0]  \n",
    "last_character = text[-1] \n",
    "\n",
    "print(\"Original String:\", text)\n",
    "print(\"String Length:\", string_length)\n",
    "print(\"First Character:\", first_character)\n",
    "print(\"Last Character:\", last_character)\n",
    "\n",
    "if substring in text:\n",
    "    print(f\"'{substring}' is found in the string.\")\n",
    "else:\n",
    "    print(f\"'{substring}' is not found in the string.\")\n",
    "\n",
    "\n",
    "word_to_count = \"Python\"\n",
    "word_count = text.count(word_to_count)\n",
    "\n",
    "\n",
    "print(f\"The word '{word_to_count}' appears {word_count} times in the string.\")\n",
    "\n",
    "\n",
    "new_text = text.replace(\"versatile\", \"powerful\")\n",
    "\n",
    "\n",
    "print(\"Updated String:\", new_text)\n",
    "\n",
    "\n",
    "word_list = text.split()\n",
    "\n",
    "\n",
    "print(\"List of Words:\", word_list)\n",
    "\n",
    "\n",
    "reconstructed_text = \" \".join(word_list)\n",
    "\n",
    "\n",
    "print(\"Reconstructed String:\", reconstructed_text)\n",
    "\n"
   ]
  },
  {
   "cell_type": "code",
   "execution_count": 6,
   "id": "69f58bf2",
   "metadata": {},
   "outputs": [
    {
     "name": "stdout",
     "output_type": "stream",
     "text": [
      " enter your input hello im kobayashi\n",
      "Original Input: hello im kobayashi\n",
      "Uppercase Input: HELLO IM KOBAYASHI\n",
      "Lowercase Input: hello im kobayashi\n"
     ]
    }
   ],
   "source": [
    "\n",
    "user_input = input(\" enter your input \")\n",
    "\n",
    "\n",
    "uppercase_input = user_input.upper()\n",
    "\n",
    "\n",
    "lowercase_input = user_input.lower()\n",
    "\n",
    "\n",
    "print(\"Original Input:\", user_input)\n",
    "print(\"Uppercase Input:\", uppercase_input)\n",
    "print(\"Lowercase Input:\", lowercase_input)\n"
   ]
  },
  {
   "cell_type": "raw",
   "id": "c0841e2c",
   "metadata": {},
   "source": [
    "excercise"
   ]
  },
  {
   "cell_type": "code",
   "execution_count": 7,
   "id": "a3434339",
   "metadata": {},
   "outputs": [
    {
     "name": "stdout",
     "output_type": "stream",
     "text": [
      "Enter the number of hours worked: 35\n",
      "Enter the hourly rate: 2.75\n",
      "Gross Pay: 96.25\n"
     ]
    }
   ],
   "source": [
    "\n",
    "hours_worked = float(input(\"Enter the number of hours worked: \"))\n",
    "hourly_rate = float(input(\"Enter the hourly rate: \"))\n",
    "\n",
    "gross_pay = hours_worked * hourly_rate\n",
    "\n",
    "\n",
    "print(\"Gross Pay:\", gross_pay)\n"
   ]
  },
  {
   "cell_type": "code",
   "execution_count": null,
   "id": "4c33db2f",
   "metadata": {},
   "outputs": [],
   "source": []
  }
 ],
 "metadata": {
  "kernelspec": {
   "display_name": "Python 3 (ipykernel)",
   "language": "python",
   "name": "python3"
  },
  "language_info": {
   "codemirror_mode": {
    "name": "ipython",
    "version": 3
   },
   "file_extension": ".py",
   "mimetype": "text/x-python",
   "name": "python",
   "nbconvert_exporter": "python",
   "pygments_lexer": "ipython3",
   "version": "3.11.4"
  }
 },
 "nbformat": 4,
 "nbformat_minor": 5
}
